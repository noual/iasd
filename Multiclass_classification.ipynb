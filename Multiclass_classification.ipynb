{
  "nbformat": 4,
  "nbformat_minor": 0,
  "metadata": {
    "colab": {
      "name": "Multiclass classification.ipynb",
      "provenance": [],
      "authorship_tag": "ABX9TyORWfWr/4/iybar1zZ4iKrO",
      "include_colab_link": true
    },
    "kernelspec": {
      "name": "python3",
      "display_name": "Python 3"
    },
    "language_info": {
      "name": "python"
    }
  },
  "cells": [
    {
      "cell_type": "markdown",
      "metadata": {
        "id": "view-in-github",
        "colab_type": "text"
      },
      "source": [
        "<a href=\"https://colab.research.google.com/github/noual/iasd/blob/main/Multiclass_classification.ipynb\" target=\"_parent\"><img src=\"https://colab.research.google.com/assets/colab-badge.svg\" alt=\"Open In Colab\"/></a>"
      ]
    },
    {
      "cell_type": "markdown",
      "metadata": {
        "id": "VeIetD0LmY7y"
      },
      "source": [
        "#Multiclass Classification\n",
        "\n",
        "You’ll work with the Reuters dataset, a set of short newswires and\n",
        "their topics, published by Reuters in 1986. It’s a simple, widely used\n",
        "toy dataset for text classification. There are 46 different topics; some\n",
        "topics are more represented than others, but each topic has at least\n",
        "10 examples in the training set.\n",
        "\n"
      ]
    },
    {
      "cell_type": "code",
      "metadata": {
        "id": "zuZU-dl3nXDs"
      },
      "source": [
        "import numpy as np\n",
        "import tensorflow as tf\n",
        "from tensorflow.keras.utils import to_categorical"
      ],
      "execution_count": 1,
      "outputs": []
    },
    {
      "cell_type": "code",
      "metadata": {
        "id": "609cso4kmRTP"
      },
      "source": [
        "from tensorflow.keras.datasets import reuters\n",
        "(train_data, train_labels), (test_data, test_labels) = reuters.load_data(num_words=10000)\n",
        "num_classes = 46"
      ],
      "execution_count": 2,
      "outputs": []
    },
    {
      "cell_type": "code",
      "metadata": {
        "colab": {
          "base_uri": "https://localhost:8080/"
        },
        "id": "zF1z2Unom1XC",
        "outputId": "ca8f14ad-88b3-4ba4-ff92-85fbe71387e0"
      },
      "source": [
        "print(f'Training data shape : {train_data.shape}')\n",
        "print(f'Training labels shape : {train_labels.shape}')"
      ],
      "execution_count": 3,
      "outputs": [
        {
          "output_type": "stream",
          "name": "stdout",
          "text": [
            "Training data shape : (8982,)\n",
            "Training labels shape : (8982,)\n"
          ]
        }
      ]
    },
    {
      "cell_type": "markdown",
      "metadata": {
        "id": "k_mlsJuKnv8y"
      },
      "source": [
        "## Encode the data\n",
        "\n",
        "We use one-hot encoding"
      ]
    },
    {
      "cell_type": "code",
      "metadata": {
        "id": "1nNrt10hnS--"
      },
      "source": [
        "def vectorize_sequences(sequences, dimension=10000):\n",
        "    # Create an all-zero matrix of shape (len(sequences), dimension)\n",
        "    results = np.zeros((len(sequences), dimension))\n",
        "    for i, sequence in enumerate(sequences):\n",
        "       results[i, sequence] = 1.  # set specific indices of results[i] to 1s\n",
        "    return results"
      ],
      "execution_count": 4,
      "outputs": []
    },
    {
      "cell_type": "code",
      "metadata": {
        "id": "HgUKT5oznpp2"
      },
      "source": [
        "x_train = vectorize_sequences(train_data)\n",
        "x_test = vectorize_sequences(test_data)\n",
        "y_train = to_categorical(train_labels)\n",
        "y_test = to_categorical(test_labels)"
      ],
      "execution_count": 18,
      "outputs": []
    },
    {
      "cell_type": "markdown",
      "metadata": {
        "id": "HJHo4EhlqPIw"
      },
      "source": [
        "## Define the network"
      ]
    },
    {
      "cell_type": "code",
      "metadata": {
        "id": "JKWGZfmnoYpr"
      },
      "source": [
        "from tensorflow.keras import Sequential\n",
        "from tensorflow.keras.layers import Dense"
      ],
      "execution_count": 6,
      "outputs": []
    },
    {
      "cell_type": "code",
      "metadata": {
        "id": "kSaEtl3Bqd37"
      },
      "source": [
        "model = Sequential()\n",
        "\n",
        "model.add(Dense(32, activation='relu'))\n",
        "model.add(Dense(64, activation='relu'))\n",
        "model.add(Dense(num_classes, activation='softmax'))"
      ],
      "execution_count": 32,
      "outputs": []
    },
    {
      "cell_type": "markdown",
      "metadata": {
        "id": "1hprOrvVtR1V"
      },
      "source": [
        "Define a validation set"
      ]
    },
    {
      "cell_type": "code",
      "metadata": {
        "id": "qOarp846tRco"
      },
      "source": [
        "from sklearn.model_selection import train_test_split\n",
        "x_train, x_val, y_train, y_val = train_test_split(x_train, y_train, test_size=0.2)"
      ],
      "execution_count": 33,
      "outputs": []
    },
    {
      "cell_type": "markdown",
      "metadata": {
        "id": "TjitkWcXrI2q"
      },
      "source": [
        "## Choose a loss function and optimizer"
      ]
    },
    {
      "cell_type": "code",
      "metadata": {
        "id": "MSiiXVXrrMhI"
      },
      "source": [
        "from tensorflow.keras.losses import CategoricalCrossentropy\n",
        "from tensorflow.keras.metrics import CategoricalAccuracy"
      ],
      "execution_count": 34,
      "outputs": []
    },
    {
      "cell_type": "code",
      "metadata": {
        "id": "za7v1y6Yq5FN"
      },
      "source": [
        "model.compile(optimizer='Adam', loss=CategoricalCrossentropy(), metrics=[CategoricalAccuracy()])"
      ],
      "execution_count": 35,
      "outputs": []
    },
    {
      "cell_type": "code",
      "metadata": {
        "colab": {
          "base_uri": "https://localhost:8080/"
        },
        "id": "1zYHq_mMruPP",
        "outputId": "f9e53fa4-4160-49e2-a015-20760c809455"
      },
      "source": [
        "history = model.fit(x=x_train, y=y_train, batch_size=4, epochs=10, validation_data=(x_val, y_val))"
      ],
      "execution_count": 36,
      "outputs": [
        {
          "output_type": "stream",
          "name": "stdout",
          "text": [
            "Epoch 1/10\n",
            "1437/1437 [==============================] - 5s 3ms/step - loss: 1.3694 - categorical_accuracy: 0.6860 - val_loss: 0.9649 - val_categorical_accuracy: 0.7766\n",
            "Epoch 2/10\n",
            "1437/1437 [==============================] - 4s 3ms/step - loss: 0.5768 - categorical_accuracy: 0.8606 - val_loss: 0.9247 - val_categorical_accuracy: 0.8058\n",
            "Epoch 3/10\n",
            "1437/1437 [==============================] - 4s 3ms/step - loss: 0.2869 - categorical_accuracy: 0.9334 - val_loss: 0.9649 - val_categorical_accuracy: 0.7982\n",
            "Epoch 4/10\n",
            "1437/1437 [==============================] - 5s 3ms/step - loss: 0.1838 - categorical_accuracy: 0.9560 - val_loss: 1.1583 - val_categorical_accuracy: 0.7871\n",
            "Epoch 5/10\n",
            "1437/1437 [==============================] - 4s 3ms/step - loss: 0.1495 - categorical_accuracy: 0.9614 - val_loss: 1.1990 - val_categorical_accuracy: 0.7857\n",
            "Epoch 6/10\n",
            "1437/1437 [==============================] - 5s 3ms/step - loss: 0.1233 - categorical_accuracy: 0.9633 - val_loss: 1.2550 - val_categorical_accuracy: 0.7905\n",
            "Epoch 7/10\n",
            "1437/1437 [==============================] - 5s 3ms/step - loss: 0.1132 - categorical_accuracy: 0.9662 - val_loss: 1.3017 - val_categorical_accuracy: 0.7864\n",
            "Epoch 8/10\n",
            "1437/1437 [==============================] - 5s 3ms/step - loss: 0.1060 - categorical_accuracy: 0.9662 - val_loss: 1.3235 - val_categorical_accuracy: 0.7787\n",
            "Epoch 9/10\n",
            "1437/1437 [==============================] - 5s 3ms/step - loss: 0.0918 - categorical_accuracy: 0.9668 - val_loss: 1.5649 - val_categorical_accuracy: 0.7808\n",
            "Epoch 10/10\n",
            "1437/1437 [==============================] - 5s 3ms/step - loss: 0.0870 - categorical_accuracy: 0.9656 - val_loss: 1.5499 - val_categorical_accuracy: 0.7975\n"
          ]
        }
      ]
    },
    {
      "cell_type": "code",
      "metadata": {
        "colab": {
          "base_uri": "https://localhost:8080/"
        },
        "id": "PYTV4Nw0v5bN",
        "outputId": "5bb2e17e-c6e3-486e-ab75-210daf169534"
      },
      "source": [
        "print(history.history.keys())"
      ],
      "execution_count": 25,
      "outputs": [
        {
          "output_type": "stream",
          "name": "stdout",
          "text": [
            "dict_keys(['loss', 'categorical_accuracy', 'val_loss', 'val_categorical_accuracy'])\n"
          ]
        }
      ]
    },
    {
      "cell_type": "code",
      "metadata": {
        "colab": {
          "base_uri": "https://localhost:8080/",
          "height": 283
        },
        "id": "bPWEvn26vnPj",
        "outputId": "219dcbc7-37b7-4703-9c3f-6c273c6b5923"
      },
      "source": [
        "import matplotlib.pyplot as plt\n",
        "plt.plot(history.history['categorical_accuracy'], label='Training')\n",
        "plt.plot(history.history['val_categorical_accuracy'], 'r', label='Validation')\n",
        "plt.legend()"
      ],
      "execution_count": 31,
      "outputs": [
        {
          "output_type": "execute_result",
          "data": {
            "text/plain": [
              "<matplotlib.legend.Legend at 0x7f3818472cd0>"
            ]
          },
          "metadata": {},
          "execution_count": 31
        },
        {
          "output_type": "display_data",
          "data": {
            "image/png": "[encoded data removed]",
            "text/plain": [
              "<Figure size 432x288 with 1 Axes>"
            ]
          },
          "metadata": {
            "needs_background": "light"
          }
        }
      ]
    },
    {
      "cell_type": "code",
      "metadata": {
        "colab": {
          "base_uri": "https://localhost:8080/"
        },
        "id": "ln-j7GDLrwCa",
        "outputId": "d6a0aaae-5b5f-4b7d-bd9b-4b9520a40d12"
      },
      "source": [
        "model.evaluate(x=x_test, y=y_test)"
      ],
      "execution_count": 32,
      "outputs": [
        {
          "output_type": "stream",
          "name": "stdout",
          "text": [
            "71/71 [==============================] - 0s 2ms/step - loss: 1.5943 - categorical_accuracy: 0.7841\n"
          ]
        },
        {
          "output_type": "execute_result",
          "data": {
            "text/plain": [
              "[1.594305157661438, 0.784060537815094]"
            ]
          },
          "metadata": {},
          "execution_count": 32
        }
      ]
    },
    {
      "cell_type": "code",
      "metadata": {
        "id": "TV0AuNgCsxI3"
      },
      "source": [
        ""
      ],
      "execution_count": null,
      "outputs": []
    }
  ]
}